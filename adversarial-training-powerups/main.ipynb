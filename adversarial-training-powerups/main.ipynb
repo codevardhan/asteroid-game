{
 "cells": [
  {
   "cell_type": "code",
   "execution_count": 5,
   "metadata": {},
   "outputs": [],
   "source": [
    "import numpy as np"
   ]
  },
  {
   "cell_type": "code",
   "execution_count": 28,
   "metadata": {},
   "outputs": [],
   "source": [
    "x = [6, 4, 7, 2, 1]\n",
    "w1 = [0, 4, -4, -5, 4]\n",
    "b1 = 1\n",
    "w2 = [2, 2, -4, 3, 0]\n",
    "b2 = 1\n",
    "\n",
    "v1 = [1, -2]\n",
    "b3 = -1\n",
    "\n",
    "v2 = [2, 3]\n",
    "b4 = 0\n",
    "\n",
    "v3 = [1,2]\n",
    "b5 = 2"
   ]
  },
  {
   "cell_type": "code",
   "execution_count": 29,
   "metadata": {},
   "outputs": [],
   "source": [
    "def relu(value):\n",
    "    return max(0, value)\n",
    "\n",
    "elementwise_relu = np.vectorize(relu)\n",
    "\n",
    "def sigmoid(value):\n",
    "    return 1 / (1 + np.exp(-value))\n",
    "\n",
    "elementwise_sigmoid = np.vectorize(sigmoid)\n",
    "\n"
   ]
  },
  {
   "cell_type": "code",
   "execution_count": 30,
   "metadata": {},
   "outputs": [
    {
     "data": {
      "text/plain": [
       "array([0, 0])"
      ]
     },
     "execution_count": 30,
     "metadata": {},
     "output_type": "execute_result"
    }
   ],
   "source": [
    "w1_out = elementwise_relu(np.matmul(np.array(w1), np.array(x)) + b1)\n",
    "w2_out = elementwise_relu(np.matmul(np.array(w2), np.array(x)) + b2)\n",
    "\n",
    "layer1_out = np.array([w1_out, w2_out])\n",
    "layer1_out"
   ]
  },
  {
   "cell_type": "code",
   "execution_count": 33,
   "metadata": {},
   "outputs": [
    {
     "data": {
      "text/plain": [
       "array([0.26894142, 0.5       , 0.88079708])"
      ]
     },
     "execution_count": 33,
     "metadata": {},
     "output_type": "execute_result"
    }
   ],
   "source": [
    "v1_out = elementwise_sigmoid(np.matmul(layer1_out, np.array(v1)) + b3)\n",
    "v2_out = elementwise_sigmoid(np.matmul(layer1_out, np.array(v2)) + b4)\n",
    "v3_out = elementwise_sigmoid(np.matmul(layer1_out, np.array(v3)) + b5)\n",
    "\n",
    "layer2_out = np.array([v1_out, v2_out, v3_out])\n",
    "layer2_out"
   ]
  },
  {
   "cell_type": "code",
   "execution_count": 34,
   "metadata": {},
   "outputs": [
    {
     "data": {
      "text/plain": [
       "array([0.24367761, 0.30701748, 0.44930491])"
      ]
     },
     "execution_count": 34,
     "metadata": {},
     "output_type": "execute_result"
    }
   ],
   "source": [
    "def softmax(x):\n",
    "    e_x = np.exp(x - np.max(x))\n",
    "    return e_x / np.sum(e_x)\n",
    "\n",
    "final_out = softmax(layer2_out)\n",
    "final_out"
   ]
  },
  {
   "cell_type": "code",
   "execution_count": null,
   "metadata": {},
   "outputs": [],
   "source": []
  }
 ],
 "metadata": {
  "kernelspec": {
   "display_name": ".venv",
   "language": "python",
   "name": "python3"
  },
  "language_info": {
   "codemirror_mode": {
    "name": "ipython",
    "version": 3
   },
   "file_extension": ".py",
   "mimetype": "text/x-python",
   "name": "python",
   "nbconvert_exporter": "python",
   "pygments_lexer": "ipython3",
   "version": "3.11.8"
  }
 },
 "nbformat": 4,
 "nbformat_minor": 2
}
